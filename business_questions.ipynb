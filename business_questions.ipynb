{
 "cells": [
  {
   "cell_type": "markdown",
   "metadata": {},
   "source": [
    "# Using the Chinook Database to Answer Hypothetical Business Questions with SQLite"
   ]
  },
  {
   "cell_type": "markdown",
   "metadata": {},
   "source": [
    "In this notebook, I will be demonstrating some intermediate and complex SQL queries which can answer hypothetical business questions using the Chinook sample database.\n",
    "\n",
    "The Chinook sample database covers data from a hypothetical record store. There are 11 tables:\n",
    "\n",
    "- employees - stores employee data\n",
    "- customers - stores customer data\n",
    "- invoices & invoice_items - 2 tables storing invoice data\n",
    "- artists - stores artists data for records sold in the store\n",
    "- albums - stores albums data for records sold in the store\n",
    "- media_types - stores media types such as MPEG Audio and AAC audio files\n",
    "- genres - stores music genres such as rock, jazz, hip-hop etc.\n",
    "- tracks - stores songs data\n",
    "- playlists & playlists_track - stores data about playlists and tracks within playlists\n",
    "- country_data - stores country data of tracks\n",
    "\n",
    "I have uploaded the database scheme to the repo for reference."
   ]
  },
  {
   "cell_type": "markdown",
   "metadata": {},
   "source": [
    "## Connecting the notebook to the database file"
   ]
  },
  {
   "cell_type": "code",
   "execution_count": 1,
   "metadata": {},
   "outputs": [],
   "source": [
    "%%capture\n",
    "%load_ext sql\n",
    "%sql sqlite:///chinook.db"
   ]
  },
  {
   "cell_type": "markdown",
   "metadata": {},
   "source": [
    "## Getting familiar with the data"
   ]
  },
  {
   "cell_type": "markdown",
   "metadata": {},
   "source": [
    "First, lets write a query to find the tables in the database."
   ]
  },
  {
   "cell_type": "code",
   "execution_count": 2,
   "metadata": {},
   "outputs": [
    {
     "name": "stdout",
     "output_type": "stream",
     "text": [
      " * sqlite:///chinook.db\n",
      "Done.\n"
     ]
    },
    {
     "data": {
      "text/html": [
       "<table>\n",
       "    <thead>\n",
       "        <tr>\n",
       "            <th>name</th>\n",
       "            <th>type</th>\n",
       "        </tr>\n",
       "    </thead>\n",
       "    <tbody>\n",
       "        <tr>\n",
       "            <td>album</td>\n",
       "            <td>table</td>\n",
       "        </tr>\n",
       "        <tr>\n",
       "            <td>artist</td>\n",
       "            <td>table</td>\n",
       "        </tr>\n",
       "        <tr>\n",
       "            <td>customer</td>\n",
       "            <td>table</td>\n",
       "        </tr>\n",
       "        <tr>\n",
       "            <td>employee</td>\n",
       "            <td>table</td>\n",
       "        </tr>\n",
       "        <tr>\n",
       "            <td>genre</td>\n",
       "            <td>table</td>\n",
       "        </tr>\n",
       "        <tr>\n",
       "            <td>invoice</td>\n",
       "            <td>table</td>\n",
       "        </tr>\n",
       "        <tr>\n",
       "            <td>invoice_line</td>\n",
       "            <td>table</td>\n",
       "        </tr>\n",
       "        <tr>\n",
       "            <td>media_type</td>\n",
       "            <td>table</td>\n",
       "        </tr>\n",
       "        <tr>\n",
       "            <td>playlist</td>\n",
       "            <td>table</td>\n",
       "        </tr>\n",
       "        <tr>\n",
       "            <td>playlist_track</td>\n",
       "            <td>table</td>\n",
       "        </tr>\n",
       "        <tr>\n",
       "            <td>track</td>\n",
       "            <td>table</td>\n",
       "        </tr>\n",
       "        <tr>\n",
       "            <td>country_data_unsorted</td>\n",
       "            <td>view</td>\n",
       "        </tr>\n",
       "    </tbody>\n",
       "</table>"
      ],
      "text/plain": [
       "[('album', 'table'),\n",
       " ('artist', 'table'),\n",
       " ('customer', 'table'),\n",
       " ('employee', 'table'),\n",
       " ('genre', 'table'),\n",
       " ('invoice', 'table'),\n",
       " ('invoice_line', 'table'),\n",
       " ('media_type', 'table'),\n",
       " ('playlist', 'table'),\n",
       " ('playlist_track', 'table'),\n",
       " ('track', 'table'),\n",
       " ('country_data_unsorted', 'view')]"
      ]
     },
     "execution_count": 2,
     "metadata": {},
     "output_type": "execute_result"
    }
   ],
   "source": [
    "%%sql\n",
    "SELECT\n",
    "    name,\n",
    "    type\n",
    "FROM sqlite_master\n",
    "WHERE type in (\"table\",\"view\");"
   ]
  },
  {
   "cell_type": "markdown",
   "metadata": {},
   "source": [
    "Now, lets write a few quick queries to get a sense of some of the tables and the data."
   ]
  },
  {
   "cell_type": "code",
   "execution_count": 3,
   "metadata": {},
   "outputs": [
    {
     "name": "stdout",
     "output_type": "stream",
     "text": [
      " * sqlite:///chinook.db\n",
      "Done.\n"
     ]
    },
    {
     "data": {
      "text/html": [
       "<table>\n",
       "    <thead>\n",
       "        <tr>\n",
       "            <th>album_id</th>\n",
       "            <th>title</th>\n",
       "            <th>artist_id</th>\n",
       "        </tr>\n",
       "    </thead>\n",
       "    <tbody>\n",
       "        <tr>\n",
       "            <td>1</td>\n",
       "            <td>For Those About To Rock We Salute You</td>\n",
       "            <td>1</td>\n",
       "        </tr>\n",
       "        <tr>\n",
       "            <td>2</td>\n",
       "            <td>Balls to the Wall</td>\n",
       "            <td>2</td>\n",
       "        </tr>\n",
       "        <tr>\n",
       "            <td>3</td>\n",
       "            <td>Restless and Wild</td>\n",
       "            <td>2</td>\n",
       "        </tr>\n",
       "        <tr>\n",
       "            <td>4</td>\n",
       "            <td>Let There Be Rock</td>\n",
       "            <td>1</td>\n",
       "        </tr>\n",
       "        <tr>\n",
       "            <td>5</td>\n",
       "            <td>Big Ones</td>\n",
       "            <td>3</td>\n",
       "        </tr>\n",
       "    </tbody>\n",
       "</table>"
      ],
      "text/plain": [
       "[(1, 'For Those About To Rock We Salute You', 1),\n",
       " (2, 'Balls to the Wall', 2),\n",
       " (3, 'Restless and Wild', 2),\n",
       " (4, 'Let There Be Rock', 1),\n",
       " (5, 'Big Ones', 3)]"
      ]
     },
     "execution_count": 3,
     "metadata": {},
     "output_type": "execute_result"
    }
   ],
   "source": [
    "%%sql\n",
    "SELECT * FROM album LIMIT 5;"
   ]
  },
  {
   "cell_type": "code",
   "execution_count": 4,
   "metadata": {},
   "outputs": [
    {
     "name": "stdout",
     "output_type": "stream",
     "text": [
      " * sqlite:///chinook.db\n",
      "Done.\n"
     ]
    },
    {
     "data": {
      "text/html": [
       "<table>\n",
       "    <thead>\n",
       "        <tr>\n",
       "            <th>artist_id</th>\n",
       "            <th>name</th>\n",
       "        </tr>\n",
       "    </thead>\n",
       "    <tbody>\n",
       "        <tr>\n",
       "            <td>1</td>\n",
       "            <td>AC/DC</td>\n",
       "        </tr>\n",
       "        <tr>\n",
       "            <td>2</td>\n",
       "            <td>Accept</td>\n",
       "        </tr>\n",
       "        <tr>\n",
       "            <td>3</td>\n",
       "            <td>Aerosmith</td>\n",
       "        </tr>\n",
       "        <tr>\n",
       "            <td>4</td>\n",
       "            <td>Alanis Morissette</td>\n",
       "        </tr>\n",
       "        <tr>\n",
       "            <td>5</td>\n",
       "            <td>Alice In Chains</td>\n",
       "        </tr>\n",
       "    </tbody>\n",
       "</table>"
      ],
      "text/plain": [
       "[(1, 'AC/DC'),\n",
       " (2, 'Accept'),\n",
       " (3, 'Aerosmith'),\n",
       " (4, 'Alanis Morissette'),\n",
       " (5, 'Alice In Chains')]"
      ]
     },
     "execution_count": 4,
     "metadata": {},
     "output_type": "execute_result"
    }
   ],
   "source": [
    "%%sql\n",
    "SELECT * FROM artist LIMIT 5;"
   ]
  },
  {
   "cell_type": "code",
   "execution_count": 5,
   "metadata": {},
   "outputs": [
    {
     "name": "stdout",
     "output_type": "stream",
     "text": [
      " * sqlite:///chinook.db\n",
      "Done.\n"
     ]
    },
    {
     "data": {
      "text/html": [
       "<table>\n",
       "    <thead>\n",
       "        <tr>\n",
       "            <th>employee_id</th>\n",
       "            <th>last_name</th>\n",
       "            <th>first_name</th>\n",
       "            <th>title</th>\n",
       "            <th>reports_to</th>\n",
       "            <th>birthdate</th>\n",
       "            <th>hire_date</th>\n",
       "            <th>address</th>\n",
       "            <th>city</th>\n",
       "            <th>state</th>\n",
       "            <th>country</th>\n",
       "            <th>postal_code</th>\n",
       "            <th>phone</th>\n",
       "            <th>fax</th>\n",
       "            <th>email</th>\n",
       "        </tr>\n",
       "    </thead>\n",
       "    <tbody>\n",
       "        <tr>\n",
       "            <td>1</td>\n",
       "            <td>Adams</td>\n",
       "            <td>Andrew</td>\n",
       "            <td>General Manager</td>\n",
       "            <td>None</td>\n",
       "            <td>1962-02-18 00:00:00</td>\n",
       "            <td>2016-08-14 00:00:00</td>\n",
       "            <td>11120 Jasper Ave NW</td>\n",
       "            <td>Edmonton</td>\n",
       "            <td>AB</td>\n",
       "            <td>Canada</td>\n",
       "            <td>T5K 2N1</td>\n",
       "            <td>+1 (780) 428-9482</td>\n",
       "            <td>+1 (780) 428-3457</td>\n",
       "            <td>andrew@chinookcorp.com</td>\n",
       "        </tr>\n",
       "        <tr>\n",
       "            <td>2</td>\n",
       "            <td>Edwards</td>\n",
       "            <td>Nancy</td>\n",
       "            <td>Sales Manager</td>\n",
       "            <td>1</td>\n",
       "            <td>1958-12-08 00:00:00</td>\n",
       "            <td>2016-05-01 00:00:00</td>\n",
       "            <td>825 8 Ave SW</td>\n",
       "            <td>Calgary</td>\n",
       "            <td>AB</td>\n",
       "            <td>Canada</td>\n",
       "            <td>T2P 2T3</td>\n",
       "            <td>+1 (403) 262-3443</td>\n",
       "            <td>+1 (403) 262-3322</td>\n",
       "            <td>nancy@chinookcorp.com</td>\n",
       "        </tr>\n",
       "        <tr>\n",
       "            <td>3</td>\n",
       "            <td>Peacock</td>\n",
       "            <td>Jane</td>\n",
       "            <td>Sales Support Agent</td>\n",
       "            <td>2</td>\n",
       "            <td>1973-08-29 00:00:00</td>\n",
       "            <td>2017-04-01 00:00:00</td>\n",
       "            <td>1111 6 Ave SW</td>\n",
       "            <td>Calgary</td>\n",
       "            <td>AB</td>\n",
       "            <td>Canada</td>\n",
       "            <td>T2P 5M5</td>\n",
       "            <td>+1 (403) 262-3443</td>\n",
       "            <td>+1 (403) 262-6712</td>\n",
       "            <td>jane@chinookcorp.com</td>\n",
       "        </tr>\n",
       "        <tr>\n",
       "            <td>4</td>\n",
       "            <td>Park</td>\n",
       "            <td>Margaret</td>\n",
       "            <td>Sales Support Agent</td>\n",
       "            <td>2</td>\n",
       "            <td>1947-09-19 00:00:00</td>\n",
       "            <td>2017-05-03 00:00:00</td>\n",
       "            <td>683 10 Street SW</td>\n",
       "            <td>Calgary</td>\n",
       "            <td>AB</td>\n",
       "            <td>Canada</td>\n",
       "            <td>T2P 5G3</td>\n",
       "            <td>+1 (403) 263-4423</td>\n",
       "            <td>+1 (403) 263-4289</td>\n",
       "            <td>margaret@chinookcorp.com</td>\n",
       "        </tr>\n",
       "        <tr>\n",
       "            <td>5</td>\n",
       "            <td>Johnson</td>\n",
       "            <td>Steve</td>\n",
       "            <td>Sales Support Agent</td>\n",
       "            <td>2</td>\n",
       "            <td>1965-03-03 00:00:00</td>\n",
       "            <td>2017-10-17 00:00:00</td>\n",
       "            <td>7727B 41 Ave</td>\n",
       "            <td>Calgary</td>\n",
       "            <td>AB</td>\n",
       "            <td>Canada</td>\n",
       "            <td>T3B 1Y7</td>\n",
       "            <td>1 (780) 836-9987</td>\n",
       "            <td>1 (780) 836-9543</td>\n",
       "            <td>steve@chinookcorp.com</td>\n",
       "        </tr>\n",
       "    </tbody>\n",
       "</table>"
      ],
      "text/plain": [
       "[(1, 'Adams', 'Andrew', 'General Manager', None, '1962-02-18 00:00:00', '2016-08-14 00:00:00', '11120 Jasper Ave NW', 'Edmonton', 'AB', 'Canada', 'T5K 2N1', '+1 (780) 428-9482', '+1 (780) 428-3457', 'andrew@chinookcorp.com'),\n",
       " (2, 'Edwards', 'Nancy', 'Sales Manager', 1, '1958-12-08 00:00:00', '2016-05-01 00:00:00', '825 8 Ave SW', 'Calgary', 'AB', 'Canada', 'T2P 2T3', '+1 (403) 262-3443', '+1 (403) 262-3322', 'nancy@chinookcorp.com'),\n",
       " (3, 'Peacock', 'Jane', 'Sales Support Agent', 2, '1973-08-29 00:00:00', '2017-04-01 00:00:00', '1111 6 Ave SW', 'Calgary', 'AB', 'Canada', 'T2P 5M5', '+1 (403) 262-3443', '+1 (403) 262-6712', 'jane@chinookcorp.com'),\n",
       " (4, 'Park', 'Margaret', 'Sales Support Agent', 2, '1947-09-19 00:00:00', '2017-05-03 00:00:00', '683 10 Street SW', 'Calgary', 'AB', 'Canada', 'T2P 5G3', '+1 (403) 263-4423', '+1 (403) 263-4289', 'margaret@chinookcorp.com'),\n",
       " (5, 'Johnson', 'Steve', 'Sales Support Agent', 2, '1965-03-03 00:00:00', '2017-10-17 00:00:00', '7727B 41 Ave', 'Calgary', 'AB', 'Canada', 'T3B 1Y7', '1 (780) 836-9987', '1 (780) 836-9543', 'steve@chinookcorp.com')]"
      ]
     },
     "execution_count": 5,
     "metadata": {},
     "output_type": "execute_result"
    }
   ],
   "source": [
    "%%sql\n",
    "SELECT * FROM employee LIMIT 5;"
   ]
  },
  {
   "cell_type": "markdown",
   "metadata": {},
   "source": [
    "# 1. Finding which genres sell the most tracks in the USA"
   ]
  },
  {
   "cell_type": "markdown",
   "metadata": {},
   "source": [
    "For the first hypothetical business question, we will imagine the record store has just signed a deal with a record label and we have been tasked with choosing 3 albums from 4 that will be added to the store. We have the genres of the 4 albums:\n",
    "\n",
    "- Hip-hop\n",
    "- Punk\n",
    "- Pop\n",
    "- Blues\n",
    "\n",
    "The record label specialises in artists from the USA, and so have given the record store money to advertise in the USA.\n",
    "\n",
    "We need to find out *which genres sell the best in the USA, so we can maximise the advertising profits, and make a recommendation on which albums the store should purchase*.\n",
    "\n",
    "The query for this is as follows."
   ]
  },
  {
   "cell_type": "code",
   "execution_count": 6,
   "metadata": {},
   "outputs": [
    {
     "name": "stdout",
     "output_type": "stream",
     "text": [
      " * sqlite:///chinook.db\n",
      "Done.\n"
     ]
    },
    {
     "data": {
      "text/html": [
       "<table>\n",
       "    <thead>\n",
       "        <tr>\n",
       "            <th>genre</th>\n",
       "            <th>usa_genre_sale_count</th>\n",
       "            <th>usa_genre_pct</th>\n",
       "        </tr>\n",
       "    </thead>\n",
       "    <tbody>\n",
       "        <tr>\n",
       "            <td>Rock</td>\n",
       "            <td>88</td>\n",
       "            <td>0.67</td>\n",
       "        </tr>\n",
       "        <tr>\n",
       "            <td>Alternative &amp; Punk</td>\n",
       "            <td>10</td>\n",
       "            <td>0.08</td>\n",
       "        </tr>\n",
       "        <tr>\n",
       "            <td>Metal</td>\n",
       "            <td>8</td>\n",
       "            <td>0.06</td>\n",
       "        </tr>\n",
       "        <tr>\n",
       "            <td>R&amp;B/Soul</td>\n",
       "            <td>6</td>\n",
       "            <td>0.05</td>\n",
       "        </tr>\n",
       "        <tr>\n",
       "            <td>Classical</td>\n",
       "            <td>4</td>\n",
       "            <td>0.03</td>\n",
       "        </tr>\n",
       "        <tr>\n",
       "            <td>Pop</td>\n",
       "            <td>2</td>\n",
       "            <td>0.02</td>\n",
       "        </tr>\n",
       "        <tr>\n",
       "            <td>Latin</td>\n",
       "            <td>2</td>\n",
       "            <td>0.02</td>\n",
       "        </tr>\n",
       "        <tr>\n",
       "            <td>Jazz</td>\n",
       "            <td>3</td>\n",
       "            <td>0.02</td>\n",
       "        </tr>\n",
       "        <tr>\n",
       "            <td>Electronica/Dance</td>\n",
       "            <td>2</td>\n",
       "            <td>0.02</td>\n",
       "        </tr>\n",
       "        <tr>\n",
       "            <td>Alternative</td>\n",
       "            <td>2</td>\n",
       "            <td>0.02</td>\n",
       "        </tr>\n",
       "        <tr>\n",
       "            <td>Reggae</td>\n",
       "            <td>1</td>\n",
       "            <td>0.01</td>\n",
       "        </tr>\n",
       "        <tr>\n",
       "            <td>Easy Listening</td>\n",
       "            <td>1</td>\n",
       "            <td>0.01</td>\n",
       "        </tr>\n",
       "        <tr>\n",
       "            <td>Drama</td>\n",
       "            <td>1</td>\n",
       "            <td>0.01</td>\n",
       "        </tr>\n",
       "        <tr>\n",
       "            <td>Blues</td>\n",
       "            <td>1</td>\n",
       "            <td>0.01</td>\n",
       "        </tr>\n",
       "    </tbody>\n",
       "</table>"
      ],
      "text/plain": [
       "[('Rock', 88, 0.67),\n",
       " ('Alternative & Punk', 10, 0.08),\n",
       " ('Metal', 8, 0.06),\n",
       " ('R&B/Soul', 6, 0.05),\n",
       " ('Classical', 4, 0.03),\n",
       " ('Pop', 2, 0.02),\n",
       " ('Latin', 2, 0.02),\n",
       " ('Jazz', 3, 0.02),\n",
       " ('Electronica/Dance', 2, 0.02),\n",
       " ('Alternative', 2, 0.02),\n",
       " ('Reggae', 1, 0.01),\n",
       " ('Easy Listening', 1, 0.01),\n",
       " ('Drama', 1, 0.01),\n",
       " ('Blues', 1, 0.01)]"
      ]
     },
     "execution_count": 6,
     "metadata": {},
     "output_type": "execute_result"
    }
   ],
   "source": [
    "%%sql\n",
    "WITH total AS\n",
    "    (\n",
    "    SELECT COUNT(*) AS total FROM invoice\n",
    "    WHERE billing_country = 'USA'\n",
    "    )\n",
    "SELECT\n",
    "    genre.name genre,\n",
    "    COUNT(genre.name) usa_genre_sale_count,\n",
    "    ROUND(CAST(COUNT(genre.name) AS FLOAT) / total.total, 2) usa_genre_pct\n",
    "FROM invoice, total\n",
    "INNER JOIN invoice_line il ON il.invoice_line_id = invoice.invoice_id\n",
    "INNER JOIN track t ON t.track_id = il.track_id\n",
    "INNER JOIN genre ON genre.genre_id = t.genre_id\n",
    "WHERE invoice.billing_country = \"USA\"\n",
    "GROUP BY genre.name\n",
    "ORDER BY usa_genre_pct DESC;"
   ]
  },
  {
   "cell_type": "markdown",
   "metadata": {},
   "source": [
    "The table illustrates that within the USA, more than half of the total sales of tracks fall under the Rock genre.\n",
    "\n",
    "With regards to the albums provided by the record label the store should purchase the albums falling under the punk, pop and blues genres as hip-hop doesn't seem to be bought in the USA stores."
   ]
  },
  {
   "cell_type": "markdown",
   "metadata": {},
   "source": [
    "# 2. Analysing employee sales performance"
   ]
  },
  {
   "cell_type": "markdown",
   "metadata": {},
   "source": [
    "In order to visualise employee sales performance, we will write a quey that finds the total dollar amount of sales assigned to each sales support agent.\n",
    "\n",
    "We will also include the hire date of the employees for context."
   ]
  },
  {
   "cell_type": "code",
   "execution_count": 7,
   "metadata": {},
   "outputs": [
    {
     "name": "stdout",
     "output_type": "stream",
     "text": [
      " * sqlite:///chinook.db\n",
      "Done.\n"
     ]
    },
    {
     "data": {
      "text/html": [
       "<table>\n",
       "    <thead>\n",
       "        <tr>\n",
       "            <th>employee_name</th>\n",
       "            <th>hire_date</th>\n",
       "            <th>total_dollar_sales</th>\n",
       "        </tr>\n",
       "    </thead>\n",
       "    <tbody>\n",
       "        <tr>\n",
       "            <td>Jane Peacock</td>\n",
       "            <td>2017-04-01 00:00:00</td>\n",
       "            <td>1731.51</td>\n",
       "        </tr>\n",
       "        <tr>\n",
       "            <td>Margaret Park</td>\n",
       "            <td>2017-05-03 00:00:00</td>\n",
       "            <td>1584.0</td>\n",
       "        </tr>\n",
       "        <tr>\n",
       "            <td>Steve Johnson</td>\n",
       "            <td>2017-10-17 00:00:00</td>\n",
       "            <td>1393.92</td>\n",
       "        </tr>\n",
       "    </tbody>\n",
       "</table>"
      ],
      "text/plain": [
       "[('Jane Peacock', '2017-04-01 00:00:00', 1731.51),\n",
       " ('Margaret Park', '2017-05-03 00:00:00', 1584.0),\n",
       " ('Steve Johnson', '2017-10-17 00:00:00', 1393.92)]"
      ]
     },
     "execution_count": 7,
     "metadata": {},
     "output_type": "execute_result"
    }
   ],
   "source": [
    "%%sql\n",
    "SELECT\n",
    "    e.first_name || \" \" || e.last_name employee_name,\n",
    "    e.hire_date,\n",
    "    ROUND(SUM(i.total), 2) total_dollar_sales\n",
    "FROM employee e\n",
    "INNER JOIN customer c ON c.support_rep_id = e.employee_id\n",
    "INNER JOIN invoice i ON i.customer_id = c.customer_id\n",
    "WHERE e.title = \"Sales Support Agent\"\n",
    "GROUP BY employee_name\n",
    "ORDER BY total_dollar_sales DESC;"
   ]
  },
  {
   "cell_type": "markdown",
   "metadata": {},
   "source": [
    "Jane Peacock is the most successful Sales Support Agent. The variance in sales might not be indicative of performance however and could also be dependent on how long the employee has been at the company, shown by the negative correlation between hire_date and total_dollar_sales. "
   ]
  },
  {
   "cell_type": "markdown",
   "metadata": {},
   "source": [
    "# 3. Analysing Country Sales Data"
   ]
  },
  {
   "cell_type": "markdown",
   "metadata": {},
   "source": [
    "For the next business analysis task, we will be analysing the sales data for customers from each country.\n",
    "\n",
    "We will calculate data for each country on the\n",
    "- total number of customers\n",
    "- total value of sales\n",
    "- average value of sales per customer\n",
    "- average order value\n",
    "\n",
    "To do this we will create a view of unsorted country data from which we will query from. This complex query is detailed below:"
   ]
  },
  {
   "cell_type": "code",
   "execution_count": 8,
   "metadata": {},
   "outputs": [
    {
     "name": "stdout",
     "output_type": "stream",
     "text": [
      " * sqlite:///chinook.db\n",
      "(sqlite3.OperationalError) table country_data_unsorted already exists\n",
      "[SQL: CREATE VIEW country_data_unsorted AS\n",
      "    WITH\n",
      "        country_customers AS\n",
      "        (\n",
      "        SELECT\n",
      "            country,\n",
      "            COUNT(customer_id) no_of_customers\n",
      "        FROM customer\n",
      "        GROUP BY 1\n",
      "        ),\n",
      "    \n",
      "        country_total_sales AS\n",
      "        (\n",
      "        SELECT\n",
      "            customer.country,\n",
      "            SUM(invoice.total) total_sales\n",
      "        FROM customer\n",
      "        INNER JOIN invoice ON invoice.customer_id = customer.customer_id\n",
      "        GROUP BY 1\n",
      "        ),\n",
      "    \n",
      "        country_avg_sales AS\n",
      "        (\n",
      "        SELECT\n",
      "            customer.country,\n",
      "            AVG(invoice.total) avg_sales\n",
      "        FROM customer\n",
      "        INNER JOIN invoice ON invoice.customer_id = customer.customer_id\n",
      "        GROUP BY 1\n",
      "        ),\n",
      "        country_unsorted AS\n",
      "        (\n",
      "        SELECT\n",
      "            cc.country,\n",
      "            cc.no_of_customers,\n",
      "            ROUND(cts.total_sales,2) total_sales,\n",
      "            ROUND(cas.avg_sales,2) avg_sales,\n",
      "            ROUND(cas.avg_sales / cc.no_of_customers,2) avg_sale_per_customer\n",
      "        FROM country_customers cc\n",
      "        INNER JOIN country_total_sales cts ON cts.country = cc.country\n",
      "        INNER JOIN country_avg_sales cas ON cas.country = cts.country\n",
      "        ORDER BY cc.no_of_customers DESC\n",
      "        )\n",
      "SELECT\n",
      "    CASE\n",
      "        WHEN no_of_customers = 1 THEN \"Other\"\n",
      "        ELSE country\n",
      "    END AS country,\n",
      "    SUM(no_of_customers) no_of_customers,\n",
      "    total_sales,\n",
      "    avg_sales,\n",
      "    avg_sale_per_customer\n",
      "FROM country_unsorted\n",
      "GROUP BY 1;]\n",
      "(Background on this error at: http://sqlalche.me/e/13/e3q8)\n"
     ]
    }
   ],
   "source": [
    "%%sql\n",
    "CREATE VIEW country_data_unsorted AS\n",
    "    WITH\n",
    "        country_customers AS\n",
    "        (\n",
    "        SELECT\n",
    "            country,\n",
    "            COUNT(customer_id) no_of_customers\n",
    "        FROM customer\n",
    "        GROUP BY 1\n",
    "        ),\n",
    "    \n",
    "        country_total_sales AS\n",
    "        (\n",
    "        SELECT\n",
    "            customer.country,\n",
    "            SUM(invoice.total) total_sales\n",
    "        FROM customer\n",
    "        INNER JOIN invoice ON invoice.customer_id = customer.customer_id\n",
    "        GROUP BY 1\n",
    "        ),\n",
    "    \n",
    "        country_avg_sales AS\n",
    "        (\n",
    "        SELECT\n",
    "            customer.country,\n",
    "            AVG(invoice.total) avg_sales\n",
    "        FROM customer\n",
    "        INNER JOIN invoice ON invoice.customer_id = customer.customer_id\n",
    "        GROUP BY 1\n",
    "        ),\n",
    "        country_unsorted AS\n",
    "        (\n",
    "        SELECT\n",
    "            cc.country,\n",
    "            cc.no_of_customers,\n",
    "            ROUND(cts.total_sales,2) total_sales,\n",
    "            ROUND(cas.avg_sales,2) avg_sales,\n",
    "            ROUND(cas.avg_sales / cc.no_of_customers,2) avg_sale_per_customer\n",
    "        FROM country_customers cc\n",
    "        INNER JOIN country_total_sales cts ON cts.country = cc.country\n",
    "        INNER JOIN country_avg_sales cas ON cas.country = cts.country\n",
    "        ORDER BY cc.no_of_customers DESC\n",
    "        )\n",
    "SELECT\n",
    "    CASE\n",
    "        WHEN no_of_customers = 1 THEN \"Other\"\n",
    "        ELSE country\n",
    "    END AS country,\n",
    "    SUM(no_of_customers) no_of_customers,\n",
    "    total_sales,\n",
    "    avg_sales,\n",
    "    avg_sale_per_customer\n",
    "FROM country_unsorted\n",
    "GROUP BY 1;\n"
   ]
  },
  {
   "cell_type": "code",
   "execution_count": 9,
   "metadata": {
    "scrolled": true
   },
   "outputs": [
    {
     "name": "stdout",
     "output_type": "stream",
     "text": [
      " * sqlite:///chinook.db\n",
      "Done.\n"
     ]
    },
    {
     "data": {
      "text/html": [
       "<table>\n",
       "    <thead>\n",
       "        <tr>\n",
       "            <th>country</th>\n",
       "            <th>no_of_customers</th>\n",
       "            <th>total_sales</th>\n",
       "            <th>avg_sales</th>\n",
       "            <th>avg_sale_per_customer</th>\n",
       "        </tr>\n",
       "    </thead>\n",
       "    <tbody>\n",
       "        <tr>\n",
       "            <td>USA</td>\n",
       "            <td>13</td>\n",
       "            <td>1040.49</td>\n",
       "            <td>7.94</td>\n",
       "            <td>0.61</td>\n",
       "        </tr>\n",
       "        <tr>\n",
       "            <td>Canada</td>\n",
       "            <td>8</td>\n",
       "            <td>535.59</td>\n",
       "            <td>7.05</td>\n",
       "            <td>0.88</td>\n",
       "        </tr>\n",
       "        <tr>\n",
       "            <td>Brazil</td>\n",
       "            <td>5</td>\n",
       "            <td>427.68</td>\n",
       "            <td>7.01</td>\n",
       "            <td>1.4</td>\n",
       "        </tr>\n",
       "        <tr>\n",
       "            <td>France</td>\n",
       "            <td>5</td>\n",
       "            <td>389.07</td>\n",
       "            <td>7.78</td>\n",
       "            <td>1.56</td>\n",
       "        </tr>\n",
       "        <tr>\n",
       "            <td>Germany</td>\n",
       "            <td>4</td>\n",
       "            <td>334.62</td>\n",
       "            <td>8.16</td>\n",
       "            <td>2.04</td>\n",
       "        </tr>\n",
       "        <tr>\n",
       "            <td>Czech Republic</td>\n",
       "            <td>2</td>\n",
       "            <td>273.24</td>\n",
       "            <td>9.11</td>\n",
       "            <td>4.55</td>\n",
       "        </tr>\n",
       "        <tr>\n",
       "            <td>United Kingdom</td>\n",
       "            <td>3</td>\n",
       "            <td>245.52</td>\n",
       "            <td>8.77</td>\n",
       "            <td>2.92</td>\n",
       "        </tr>\n",
       "        <tr>\n",
       "            <td>Portugal</td>\n",
       "            <td>2</td>\n",
       "            <td>185.13</td>\n",
       "            <td>6.38</td>\n",
       "            <td>3.19</td>\n",
       "        </tr>\n",
       "        <tr>\n",
       "            <td>India</td>\n",
       "            <td>2</td>\n",
       "            <td>183.15</td>\n",
       "            <td>8.72</td>\n",
       "            <td>4.36</td>\n",
       "        </tr>\n",
       "        <tr>\n",
       "            <td>Other</td>\n",
       "            <td>15</td>\n",
       "            <td>39.6</td>\n",
       "            <td>7.92</td>\n",
       "            <td>7.92</td>\n",
       "        </tr>\n",
       "    </tbody>\n",
       "</table>"
      ],
      "text/plain": [
       "[('USA', 13, 1040.49, 7.94, 0.61),\n",
       " ('Canada', 8, 535.59, 7.05, 0.88),\n",
       " ('Brazil', 5, 427.68, 7.01, 1.4),\n",
       " ('France', 5, 389.07, 7.78, 1.56),\n",
       " ('Germany', 4, 334.62, 8.16, 2.04),\n",
       " ('Czech Republic', 2, 273.24, 9.11, 4.55),\n",
       " ('United Kingdom', 3, 245.52, 8.77, 2.92),\n",
       " ('Portugal', 2, 185.13, 6.38, 3.19),\n",
       " ('India', 2, 183.15, 8.72, 4.36),\n",
       " ('Other', 15, 39.6, 7.92, 7.92)]"
      ]
     },
     "execution_count": 9,
     "metadata": {},
     "output_type": "execute_result"
    }
   ],
   "source": [
    "%%sql\n",
    "SELECT\n",
    "    country,\n",
    "    no_of_customers,\n",
    "    total_sales,\n",
    "    avg_sales,\n",
    "    avg_sale_per_customer\n",
    "FROM\n",
    "    (\n",
    "    SELECT\n",
    "        country_data_unsorted.*,\n",
    "        CASE\n",
    "            WHEN country_data_unsorted.country = \"Other\" THEN 1\n",
    "        END AS sort\n",
    "    FROM country_data_unsorted\n",
    "    )\n",
    "ORDER BY sort ASC, total_sales DESC;"
   ]
  },
  {
   "cell_type": "markdown",
   "metadata": {},
   "source": [
    "Clearly, the USA is the most profitable market. From the *avg_sales* column though there may be opportunity within the Czech Republic, United Kingdom and India markets."
   ]
  }
 ],
 "metadata": {
  "kernelspec": {
   "display_name": "Python 3",
   "language": "python",
   "name": "python3"
  },
  "language_info": {
   "codemirror_mode": {
    "name": "ipython",
    "version": 3
   },
   "file_extension": ".py",
   "mimetype": "text/x-python",
   "name": "python",
   "nbconvert_exporter": "python",
   "pygments_lexer": "ipython3",
   "version": "3.8.3"
  }
 },
 "nbformat": 4,
 "nbformat_minor": 2
}
